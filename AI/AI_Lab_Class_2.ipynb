{
 "cells": [
  {
   "cell_type": "markdown",
   "metadata": {},
   "source": [
    "#First Python Program"
   ]
  },
  {
   "cell_type": "code",
   "execution_count": 11,
   "metadata": {},
   "outputs": [
    {
     "name": "stdout",
     "output_type": "stream",
     "text": [
      "Hello World\n"
     ]
    }
   ],
   "source": [
    "print(\"Hello World\")\n"
   ]
  },
  {
   "cell_type": "markdown",
   "metadata": {},
   "source": [
    "#Arithmatic part"
   ]
  },
  {
   "cell_type": "code",
   "execution_count": 12,
   "metadata": {},
   "outputs": [
    {
     "name": "stdout",
     "output_type": "stream",
     "text": [
      "10\n",
      "33.333333333333336\n",
      "333.33333333333337\n"
     ]
    }
   ],
   "source": [
    "a = 10\n",
    "print(a)\n",
    "b = 100/3\n",
    "print(b)\n",
    "c = a*b\n",
    "print(c)\n"
   ]
  },
  {
   "cell_type": "markdown",
   "metadata": {},
   "source": [
    "#Type"
   ]
  },
  {
   "cell_type": "code",
   "execution_count": 7,
   "metadata": {},
   "outputs": [
    {
     "name": "stdout",
     "output_type": "stream",
     "text": [
      "10\n",
      "<class 'int'>\n",
      "180.5\n",
      "<class 'float'>\n",
      "True\n",
      "<class 'bool'>\n",
      "M\n",
      "<class 'str'>\n",
      "MOYNUL\n",
      "<class 'str'>\n",
      "(15+0j)\n",
      "<class 'complex'>\n"
     ]
    }
   ],
   "source": [
    "a=10\n",
    "b=180.5\n",
    "c= True\n",
    "d= 'M'\n",
    "e= \"MOYNUL\"\n",
    "f= complex(8+7)\n",
    "\n",
    "\n",
    "print(a)\n",
    "print(type(a))\n",
    "\n",
    "print(b)\n",
    "print(type(b))\n",
    "\n",
    "print(c)\n",
    "print(type(c))\n",
    "\n",
    "print(d)\n",
    "print(type(d))\n",
    "\n",
    "print(e)\n",
    "print(type(e))\n",
    "\n",
    "print(f)\n",
    "print(type(f))\n"
   ]
  },
  {
   "cell_type": "markdown",
   "metadata": {},
   "source": [
    "#String"
   ]
  },
  {
   "cell_type": "code",
   "execution_count": 13,
   "metadata": {},
   "outputs": [
    {
     "name": "stdout",
     "output_type": "stream",
     "text": [
      "Bangladesh\n",
      "g\n",
      "e\n",
      "BangladeshBangladeshBangladesh\n",
      "glad\n",
      "gladesh\n",
      "Banglad\n",
      "agae\n",
      "Bnld\n"
     ]
    }
   ],
   "source": [
    "s = 'Bangladesh'\n",
    "print(s)\n",
    "print(s[3])\n",
    "print(s[-3])\n",
    "print(s * 3)\n",
    "print(s [3:7])\n",
    "print(s [3:])\n",
    "print(s [:7])\n",
    "print(s [1:8:2])\n",
    "print(s [0:8:2])\n"
   ]
  },
  {
   "cell_type": "markdown",
   "metadata": {},
   "source": [
    "#Test1"
   ]
  },
  {
   "cell_type": "code",
   "execution_count": 14,
   "metadata": {},
   "outputs": [
    {
     "name": "stdout",
     "output_type": "stream",
     "text": [
      "ican\n",
      "ican International\n",
      "Amer\n",
      "nal\n",
      "mrcn\n",
      "lanoitanretnI naciremA\n",
      "lanoitanretnI naciremA\n",
      "[3, 4, 5]\n",
      "4\n",
      "5\n"
     ]
    }
   ],
   "source": [
    "a='American International'\n",
    "print(a[4:8])\n",
    "print(a[4:])\n",
    "print(a[0:4])\n",
    "print(a[19:24])\n",
    "print(a[1:9:2])\n",
    "print(a[-1: :-1])\n",
    "print(a[::-1])\n",
    "\n",
    "S=[1,2,[3,4,5],6,7,8]\n",
    "print(S[2])\n",
    "print(S[2][1])\n",
    "print(S[2][2])\n"
   ]
  },
  {
   "cell_type": "markdown",
   "metadata": {},
   "source": [
    "#Input"
   ]
  },
  {
   "cell_type": "code",
   "execution_count": 15,
   "metadata": {},
   "outputs": [
    {
     "name": "stdout",
     "output_type": "stream",
     "text": [
      "Enter value 1: \n"
     ]
    }
   ],
   "source": [
    "print(\"Enter value 1: \")\n",
    "val1 = int(input())\n",
    "print(\"You've entered :\" , val1)\n",
    "\n",
    "print(\"Enter value 2: \")\n",
    "val2 = int(input())\n",
    "print(\"You've entered :\" , val2)\n",
    "\n",
    "val = val1 + val2\n",
    "print(\"Reult is :\", val)\n"
   ]
  },
  {
   "cell_type": "markdown",
   "metadata": {},
   "source": [
    "#Test3"
   ]
  },
  {
   "cell_type": "code",
   "execution_count": null,
   "metadata": {},
   "outputs": [
    {
     "name": "stdout",
     "output_type": "stream",
     "text": [
      "Enter 5 subject mark \n",
      "Total mark is :  475\n",
      "Average mark is :  95.0\n",
      "A+\n"
     ]
    }
   ],
   "source": [
    "print(\"Enter 5 subject mark \")\n",
    "sub1 = int(input())\n",
    "sub2 = int(input())\n",
    "sub3 = int(input())\n",
    "sub4 = int(input())\n",
    "sub5 = int(input())\n",
    "\n",
    "total = sub1 + sub2 + sub3 + sub4 + sub5\n",
    "\n",
    "average = total / 5\n",
    "\n",
    "print(\"Total mark is : \", total)\n",
    "print(\"Average mark is : \", average)\n",
    "\n",
    "if ( average<100 and average>=90) :\n",
    "    print(\"A+\")\n",
    "\n",
    "elif (average<89 and average>=85) :\n",
    "    print(\"A\")\n",
    "\n",
    "elif (average<84 and average>=80):\n",
    "    print(\"B+\")\n",
    "\n",
    "elif (average<79 and average>=75):\n",
    "    print(\"B\")\n",
    "\n",
    "elif (average<74 and average>=70):\n",
    "    print(\"C+\")\n",
    "\n",
    "elif (average<69 and average>=65):\n",
    "    print(\"C\")\n",
    "\n",
    "elif (average<64 and average>=60):\n",
    "    print(\"D+\")\n",
    "\n",
    "elif (average<59 and average>=55):\n",
    "    print(\"D\")\n",
    "\n",
    "else:\n",
    "    print(\"F\")\n",
    "\n"
   ]
  },
  {
   "cell_type": "markdown",
   "metadata": {},
   "source": [
    "#For Loop"
   ]
  },
  {
   "cell_type": "code",
   "execution_count": null,
   "metadata": {},
   "outputs": [
    {
     "name": "stdout",
     "output_type": "stream",
     "text": [
      "b\n",
      "a\n",
      "n\n",
      "a\n",
      "n\n",
      "a\n",
      "0\n",
      "1\n",
      "2\n",
      "3\n",
      "4\n",
      "5\n"
     ]
    }
   ],
   "source": [
    "for x in \"banana\":\n",
    "    print(x)\n",
    "\n",
    "for x in range(6):\n",
    "    print(x)\n"
   ]
  },
  {
   "cell_type": "markdown",
   "metadata": {},
   "source": [
    "#Test 3"
   ]
  },
  {
   "cell_type": "code",
   "execution_count": null,
   "metadata": {},
   "outputs": [
    {
     "name": "stdout",
     "output_type": "stream",
     "text": [
      "13\n"
     ]
    }
   ],
   "source": [
    "sum =0 \n",
    "a = [1, 5, 7]\n",
    "for i in range(len(a)):\n",
    "    sum = sum + a[i]\n",
    "print(sum)\n"
   ]
  },
  {
   "cell_type": "markdown",
   "metadata": {},
   "source": [
    "#While Loop"
   ]
  },
  {
   "cell_type": "code",
   "execution_count": null,
   "metadata": {},
   "outputs": [
    {
     "name": "stdout",
     "output_type": "stream",
     "text": [
      "Enter 3-digit is : 759\n",
      "Sum of the digits is :  21\n",
      "Sum of the digits in 759 is :  21\n"
     ]
    }
   ],
   "source": [
    "'''\n",
    "Usser enter a 3 digit number example X=579\n",
    "using while loop and get output is 5+7+9=21\n",
    "'''\n",
    "\n",
    "Number = int(input(\"Enter a 3-digit number : \"))\n",
    "print(\"Enter 3-digit is :\", Number)\n",
    "\n",
    "RealNumber = Number\n",
    "DigitSum = 0\n",
    "\n",
    "while Number > 0:\n",
    "    SingleDigit = Number % 10\n",
    "    DigitSum = DigitSum + SingleDigit\n",
    "    Number //= 10\n",
    "\n",
    "print(\"Sum of the digits is : \", DigitSum)\n",
    "print(f\"Sum of the digits in {RealNumber} is : \", DigitSum)\n",
    "\n",
    "\n",
    "\n",
    "\n",
    "\n"
   ]
  },
  {
   "cell_type": "markdown",
   "metadata": {},
   "source": [
    "#Import File"
   ]
  },
  {
   "cell_type": "code",
   "execution_count": null,
   "metadata": {},
   "outputs": [
    {
     "name": "stdout",
     "output_type": "stream",
     "text": [
      "3.141592653589793\n",
      "6.283185307179586\n"
     ]
    }
   ],
   "source": [
    "import math\n",
    "\n",
    "print(math.pi)\n",
    "print(math.tau)\n"
   ]
  }
 ],
 "metadata": {
  "kernelspec": {
   "display_name": "Python 3",
   "language": "python",
   "name": "python3"
  },
  "language_info": {
   "codemirror_mode": {
    "name": "ipython",
    "version": 3
   },
   "file_extension": ".py",
   "mimetype": "text/x-python",
   "name": "python",
   "nbconvert_exporter": "python",
   "pygments_lexer": "ipython3",
   "version": "3.12.1"
  }
 },
 "nbformat": 4,
 "nbformat_minor": 2
}
